{
 "cells": [
  {
   "cell_type": "code",
   "execution_count": 1,
   "id": "15e1773f-e2fd-4eb6-b99a-1915c63662bf",
   "metadata": {
    "tags": []
   },
   "outputs": [
    {
     "name": "stdout",
     "output_type": "stream",
     "text": [
      "Selected 114 images to blur...\n",
      "✅ Blurred images saved to: DFMM_Dataset/DFMM-Spotlight/test_images_blurred\n"
     ]
    }
   ],
   "source": [
    "import cv2\n",
    "import os\n",
    "import random\n",
    "\n",
    "# Original image directory\n",
    "image_dir = \"DFMM_Dataset/DFMM-Spotlight/test_images\"\n",
    "\n",
    "# Folder to store the blurred images\n",
    "blur_folder = \"DFMM_Dataset/DFMM-Spotlight/test_images_blurred\"\n",
    "os.makedirs(blur_folder, exist_ok=True)\n",
    "\n",
    "# Parameters\n",
    "blur_ratio = 0.10\n",
    "BLUR_KERNEL = (5, 5)\n",
    "\n",
    "# Get all non-mask image files\n",
    "image_files = [\n",
    "    f for f in os.listdir(image_dir)\n",
    "    if f.lower().endswith((\".png\", \".jpg\", \".jpeg\")) and \"_mask\" not in f\n",
    "]\n",
    "\n",
    "# Randomly select 10% of files\n",
    "num_to_blur = max(1, int(len(image_files) * blur_ratio))\n",
    "files_to_blur = random.sample(image_files, num_to_blur)\n",
    "\n",
    "print(f\"Selected {num_to_blur} images to blur...\")\n",
    "\n",
    "# Loop through and save blurred versions to new folder\n",
    "for filename in files_to_blur:\n",
    "    src_path = os.path.join(image_dir, filename)\n",
    "    dst_path = os.path.join(blur_folder, filename)\n",
    "\n",
    "    image = cv2.imread(src_path)\n",
    "    if image is not None:\n",
    "        blurred = cv2.GaussianBlur(image, BLUR_KERNEL, 0)\n",
    "        cv2.imwrite(dst_path, blurred)\n",
    "\n",
    "print(f\"✅ Blurred images saved to: {blur_folder}\")\n"
   ]
  },
  {
   "cell_type": "code",
   "execution_count": null,
   "id": "9443cf5e-4eee-4bc1-886e-9c19419b849f",
   "metadata": {},
   "outputs": [],
   "source": []
  }
 ],
 "metadata": {
  "kernelspec": {
   "display_name": "Python 3",
   "language": "python",
   "name": "python3"
  },
  "language_info": {
   "codemirror_mode": {
    "name": "ipython",
    "version": 3
   },
   "file_extension": ".py",
   "mimetype": "text/x-python",
   "name": "python",
   "nbconvert_exporter": "python",
   "pygments_lexer": "ipython3",
   "version": "3.11.4"
  }
 },
 "nbformat": 4,
 "nbformat_minor": 5
}
