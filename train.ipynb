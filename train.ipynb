{
 "cells": [
  {
   "cell_type": "markdown",
   "id": "5dc4f037",
   "metadata": {},
   "source": [
    "# Imports and Setup"
   ]
  },
  {
   "cell_type": "code",
   "execution_count": 1,
   "id": "715e91a5",
   "metadata": {},
   "outputs": [],
   "source": [
    "# heavy imports\n",
    "\n",
    "from diffusers import AutoencoderKL\n",
    "from diffusers import DDPMScheduler\n",
    "from diffusers import StableDiffusionPipeline\n",
    "from diffusers import UNet2DConditionModel"
   ]
  },
  {
   "cell_type": "code",
   "execution_count": 2,
   "id": "b4316f67",
   "metadata": {},
   "outputs": [],
   "source": [
    "import os\n",
    "import math\n",
    "import random\n",
    "import json\n",
    "import numpy as np\n",
    "\n",
    "import matplotlib.pyplot as plt\n",
    "\n",
    "from PIL import Image\n",
    "from pathlib import Path\n",
    "from typing import Optional\n",
    "from tqdm.auto import tqdm\n",
    "\n",
    "import torch\n",
    "import torch.nn.functional as F\n",
    "import torch.utils.checkpoint\n",
    "from torch.utils.data import DataLoader\n",
    "\n",
    "from torchvision import transforms\n",
    "from torchvision.transforms import functional as TF\n",
    "from datasets import load_dataset, Dataset\n",
    "\n",
    "from transformers import CLIPTextModel, CLIPTokenizer\n",
    "from transformers import get_constant_schedule_with_warmup"
   ]
  },
  {
   "cell_type": "code",
   "execution_count": 18,
   "id": "d96fb7ee",
   "metadata": {},
   "outputs": [
    {
     "name": "stdout",
     "output_type": "stream",
     "text": [
      "NVIDIA A100-SXM4-80GB\n",
      "NVIDIA A100-SXM4-80GB\n"
     ]
    }
   ],
   "source": [
    "# setup\n",
    "\n",
    "SEED = 42\n",
    "random.seed(SEED)\n",
    "np.random.seed(SEED)\n",
    "torch.manual_seed(SEED)\n",
    "torch.cuda.manual_seed_all(SEED)\n",
    "\n",
    "# check if gpus are available and set the device\n",
    "device = torch.device(\"cuda\" if torch.cuda.is_available() else \"cpu\")\n",
    "\n",
    "# gpu details: preferred A100 with 256 GBs\n",
    "for i in range(torch.cuda.device_count()):\n",
    "    print(torch.cuda.get_device_name(i))"
   ]
  },
  {
   "cell_type": "markdown",
   "id": "9dcf0e46",
   "metadata": {},
   "source": [
    "# Configurations"
   ]
  },
  {
   "cell_type": "code",
   "execution_count": 32,
   "id": "19500281",
   "metadata": {},
   "outputs": [],
   "source": [
    "# model paths\n",
    "pretrained_model_name_or_path = \"runwayml/stable-diffusion-v1-5\"  # base model\n",
    "output_dir = \"./fashion-model-finetuned_100\"  # where to save the model\n",
    "\n",
    "# dataset parameters\n",
    "base_dir = 'data/DFMM-Spotlight/'  # data path\n",
    "image_column = \"image\"  # column name containing images\n",
    "caption_column = \"text\"  # column name containing captions\n",
    "train_images_dir = os.path.join(base_dir, \"train_images\")\n",
    "mask_dir = os.path.join(base_dir, \"mask\")\n",
    "ann_file = os.path.join(base_dir, \"mask_ann\", \"train_ann_file.jsonl\")\n",
    "\n",
    "# training parameters\n",
    "resolution = 512  # image resolution for training\n",
    "train_batch_size = 4  # adjust based on your gpu memory\n",
    "num_train_epochs = 10  # number of training epochs\n",
    "max_train_steps = None  # if set, overrides num_train_epochs\n",
    "gradient_accumulation_steps = 1  # for effective larger batch size\n",
    "learning_rate = 1e-5  # training learning rate\n",
    "lr_scheduler = \"constant\"  # learning rate scheduler type\n",
    "lr_warmup_steps = 0  # warmup steps for learning rate\n",
    "adam_beta1 = 0.9  # adam optimizer beta1\n",
    "adam_beta2 = 0.999  # adam optimizer beta2\n",
    "adam_weight_decay = 1e-2  # weight decay for regularization\n",
    "adam_epsilon = 1e-08  # small epsilon for numerical stability\n",
    "max_grad_norm = 1.0  # gradient clipping norm\n",
    "checkpointing_steps = 500  # save checkpoint every n steps"
   ]
  },
  {
   "cell_type": "code",
   "execution_count": 33,
   "id": "79ff15f3",
   "metadata": {},
   "outputs": [
    {
     "name": "stdout",
     "output_type": "stream",
     "text": [
      "Number of train images:  10335\n",
      "Number of test images:  1149\n",
      "Number of image masks:  23756\n",
      "Number of data points in train set:  21377\n",
      "Number of data points in test set:  2379\n"
     ]
    }
   ],
   "source": [
    "# Print number of data points\n",
    "\n",
    "with open(base_dir + 'mask_ann/train_ann_file.jsonl', 'r') as file:\n",
    "    line_count_train = sum(1 for line in file)\n",
    "        \n",
    "with open(base_dir + 'mask_ann/test_ann_file.jsonl', 'r') as file:\n",
    "    line_count_test = sum(1 for line in file)\n",
    "\n",
    "print(\"Number of train images: \", len(os.listdir(base_dir + 'train_images')))\n",
    "print(\"Number of test images: \", len(os.listdir(base_dir + 'test_images')))\n",
    "print(\"Number of image masks: \", len(os.listdir(base_dir + 'mask')))\n",
    "print(\"Number of data points in train set: \", line_count_train)\n",
    "print(\"Number of data points in test set: \", line_count_test)"
   ]
  },
  {
   "cell_type": "markdown",
   "id": "46e7e489",
   "metadata": {},
   "source": [
    "# Load Models"
   ]
  },
  {
   "cell_type": "code",
   "execution_count": 34,
   "id": "12f922ff",
   "metadata": {},
   "outputs": [
    {
     "name": "stderr",
     "output_type": "stream",
     "text": [
      "Some weights of UNet2DConditionModel were not initialized from the model checkpoint at runwayml/stable-diffusion-v1-5 and are newly initialized because the shapes did not match:\n",
      "- conv_in.weight: found shape torch.Size([320, 4, 3, 3]) in the checkpoint and torch.Size([320, 9, 3, 3]) in the model instantiated\n",
      "You should probably TRAIN this model on a down-stream task to be able to use it for predictions and inference.\n"
     ]
    },
    {
     "name": "stdout",
     "output_type": "stream",
     "text": [
      "UNet parameters to be trained: 859535364\n"
     ]
    }
   ],
   "source": [
    "# noise scheduler for the diffusion process\n",
    "noise_scheduler = DDPMScheduler.from_pretrained(\n",
    "    pretrained_model_name_or_path, \n",
    "    subfolder=\"scheduler\"\n",
    ")\n",
    "\n",
    "# tokenizer for processing text prompts\n",
    "tokenizer = CLIPTokenizer.from_pretrained(\n",
    "    pretrained_model_name_or_path, \n",
    "    subfolder=\"tokenizer\"\n",
    ")\n",
    "\n",
    "# text encoder to convert text to embeddings\n",
    "text_encoder = CLIPTextModel.from_pretrained(\n",
    "    pretrained_model_name_or_path, \n",
    "    subfolder=\"text_encoder\"\n",
    ")\n",
    "\n",
    "# vae model for encoding images to latent space and vice versa\n",
    "vae = AutoencoderKL.from_pretrained(\n",
    "    pretrained_model_name_or_path, \n",
    "    subfolder=\"vae\"\n",
    ")\n",
    "\n",
    "# unet model - the part we'll be fine-tuning\n",
    "unet = UNet2DConditionModel.from_pretrained(\n",
    "    pretrained_model_name_or_path,\n",
    "    low_cpu_mem_usage=False, \n",
    "    ignore_mismatched_sizes=True,\n",
    "    in_channels=9,  # modified for mask and masked image\n",
    "    subfolder=\"unet\"\n",
    ")\n",
    "\n",
    "# move models to device (gpu if available)\n",
    "text_encoder = text_encoder.to(device)\n",
    "vae = vae.to(device)\n",
    "unet = unet.to(device)\n",
    "\n",
    "# freeze vae and text encoder - we only want to train the UNet\n",
    "vae.requires_grad_(False)\n",
    "text_encoder.requires_grad_(False)\n",
    "\n",
    "# print model parameters information\n",
    "print(f\"UNet parameters to be trained: {sum(p.numel() for p in unet.parameters() if p.requires_grad)}\")"
   ]
  },
  {
   "cell_type": "markdown",
   "id": "30ca2c49",
   "metadata": {},
   "source": [
    "# Dataset Preparation\n",
    "\n",
    "The dataset needs to include images, text prompts, and masks:\n",
    "- Images: The fashion items/outfits\n",
    "- Text: Descriptions of the desired edits\n",
    "- Masks: Binary masks identifying regions to edit\n",
    "\n",
    "**Dataset Format Requirements**\n",
    "\n",
    "Dataset Type: The code expects a HuggingFace dataset that can be loaded with load_dataset()\n",
    "\n",
    "**Required Columns**\n",
    "\n",
    "- image: Contains image data\n",
    "- text: Contains the caption/description for each image\n",
    "- mask: Contains segmentation masks for each image\n",
    "\n",
    "**Image Format**\n",
    "\n",
    "- The images should be convertible to RGB format with .convert(\"RGB\")\n",
    "- Typically these would be PIL Image objects\n",
    "- The image dimensions can vary as they get resized during preprocessing\n",
    "\n",
    "**Mask Format**\n",
    "\n",
    "- Should be compatible with torchvision transforms\n",
    "- Typically a grayscale image where pixel values indicate which area to mask\n",
    "- Will be converted to a binary mask (0/1 values)\n",
    "\n",
    "**Text Format**\n",
    "\n",
    "- A string containing the caption\n",
    "- A list/array of strings (from which one will be randomly selected)\n",
    "\n",
    "**Example**\n",
    "\n",
    "```\n",
    "{\n",
    "    \"image\": <PIL.Image object>,       # RGB image\n",
    "    \"mask\": <PIL.Image object>,        # Grayscale/binary mask\n",
    "    \"text\": \"Description of the image\"  # or [\"caption1\", \"caption2\", ...]\n",
    "}\n",
    "```"
   ]
  },
  {
   "cell_type": "code",
   "execution_count": 35,
   "id": "d21e786e",
   "metadata": {},
   "outputs": [
    {
     "data": {
      "application/vnd.jupyter.widget-view+json": {
       "model_id": "97a68fb3aba3496397c7eb45d77e16e3",
       "version_major": 2,
       "version_minor": 0
      },
      "text/plain": [
       "  0%|          | 0/100 [00:00<?, ?it/s]"
      ]
     },
     "metadata": {},
     "output_type": "display_data"
    },
    {
     "name": "stdout",
     "output_type": "stream",
     "text": [
      "Dataset({\n",
      "    features: ['image_path', 'mask_path', 'image', 'mask', 'text'],\n",
      "    num_rows: 100\n",
      "})\n"
     ]
    }
   ],
   "source": [
    "# Load the annotation lines\n",
    "with open(ann_file, \"r\") as f:\n",
    "    lines = [json.loads(line.strip()) for line in f]\n",
    "\n",
    "# Create data entries with full paths and loadable objects\n",
    "data = []\n",
    "for entry in tqdm(lines[0:100]):  # subquering for testing\n",
    "    image_path = os.path.join(train_images_dir, entry[\"image\"])\n",
    "    mask_path = os.path.join(mask_dir, entry[\"mask\"])\n",
    "    \n",
    "    if os.path.exists(image_path) and os.path.exists(mask_path):\n",
    "        data.append({\n",
    "            \"image_path\": image_path,\n",
    "            \"mask_path\": mask_path,\n",
    "            \"image\": Image.open(image_path),\n",
    "            \"mask\": Image.open(mask_path),\n",
    "            \"text\": entry[\"text\"]\n",
    "        })\n",
    "    else:\n",
    "        print(f\"Missing file for {entry['image']} or {entry['mask']}\")\n",
    "\n",
    "# Create HuggingFace dataset\n",
    "train_dataset = Dataset.from_list(data)\n",
    "\n",
    "print(train_dataset)"
   ]
  },
  {
   "cell_type": "code",
   "execution_count": 36,
   "id": "42cc55da",
   "metadata": {},
   "outputs": [],
   "source": [
    "def joint_transform(image, mask, resolution):\n",
    "    # Resize image and mask\n",
    "    image = TF.resize(image, size=(resolution, resolution // 2), interpolation=TF.InterpolationMode.BILINEAR)\n",
    "    mask = TF.resize(mask, size=(resolution, resolution // 2), interpolation=TF.InterpolationMode.NEAREST)\n",
    "\n",
    "    # Center crop both\n",
    "    image = TF.center_crop(image, output_size=[resolution, resolution])\n",
    "    mask = TF.center_crop(mask, output_size=[resolution, resolution])\n",
    "\n",
    "    # Random horizontal flip\n",
    "    if random.random() > 0.5:\n",
    "        image = TF.hflip(image)\n",
    "        mask = TF.hflip(mask)\n",
    "\n",
    "    # To tensor\n",
    "    image = TF.to_tensor(image)\n",
    "    image = TF.normalize(image, [0.5], [0.5])\n",
    "    mask = TF.to_tensor(mask)\n",
    "\n",
    "    return image, mask"
   ]
  },
  {
   "cell_type": "code",
   "execution_count": 37,
   "id": "985d8693",
   "metadata": {},
   "outputs": [],
   "source": [
    "# preprocessing function\n",
    "def preprocess_train(examples):\n",
    "    images = [image.convert(\"RGB\") for image in examples[image_column]]  # convert images to RGB format\n",
    "    masks = [mask for mask in examples['mask']]  # extract masks (assumes dataset has a 'mask' column)\n",
    "    \n",
    "    examples[\"pixel_values\"] = []\n",
    "    examples[\"pixel_mask_values\"] = []\n",
    "\n",
    "    for img, mask in zip(images, masks):\n",
    "        img_t, mask_t = joint_transform(img, mask, resolution)\n",
    "        examples[\"pixel_values\"].append(img_t)\n",
    "        examples[\"pixel_mask_values\"].append(mask_t)\n",
    "    \n",
    "    # create masked pixel values by applying mask to image\n",
    "    examples[\"masked_pixel_values\"] = [\n",
    "        torch.masked_fill(\n",
    "            examples[\"pixel_values\"][i], \n",
    "            examples[\"pixel_mask_values\"][i].bool(), \n",
    "            0\n",
    "        ) for i in range(len(images))\n",
    "    ]\n",
    "    \n",
    "    # tokenize the captions\n",
    "    captions = []\n",
    "    for caption in examples[caption_column]:\n",
    "        if isinstance(caption, str):\n",
    "            captions.append(caption)\n",
    "        elif isinstance(caption, (list, np.ndarray)):\n",
    "            captions.append(random.choice(caption))\n",
    "        else:\n",
    "            raise ValueError(\"Caption column should contain strings or lists of strings.\")\n",
    "            \n",
    "    inputs = tokenizer(\n",
    "        captions, \n",
    "        max_length=tokenizer.model_max_length, \n",
    "        padding=\"max_length\", \n",
    "        truncation=True, \n",
    "        return_tensors=\"pt\"\n",
    "    )\n",
    "    examples[\"input_ids\"] = inputs.input_ids\n",
    "    \n",
    "    return examples\n",
    "\n",
    "# apply preprocessing to the dataset\n",
    "train_dataset = train_dataset.with_transform(preprocess_train)"
   ]
  },
  {
   "cell_type": "code",
   "execution_count": 38,
   "id": "63c1fa08",
   "metadata": {},
   "outputs": [],
   "source": [
    "# collate function for the dataloader\n",
    "def collate_fn(examples):\n",
    "    # stack the tensors\n",
    "    pixel_values = torch.stack([example[\"pixel_values\"] for example in examples])\n",
    "    pixel_values = pixel_values.to(memory_format=torch.contiguous_format).float()    \n",
    "    pixel_mask_values = torch.stack([example[\"pixel_mask_values\"] for example in examples])\n",
    "    pixel_mask_values = pixel_mask_values.to(memory_format=torch.contiguous_format)\n",
    "    masked_pixel_values = torch.stack([example[\"masked_pixel_values\"] for example in examples])\n",
    "    masked_pixel_values = masked_pixel_values.to(memory_format=torch.contiguous_format).float()\n",
    "    \n",
    "    # stack the tokenized text\n",
    "    input_ids = torch.stack([example[\"input_ids\"] for example in examples])\n",
    "    \n",
    "    return {\n",
    "        \"pixel_values\": pixel_values, \n",
    "        \"pixel_mask_values\": pixel_mask_values,\n",
    "        \"masked_pixel_values\": masked_pixel_values, \n",
    "        \"input_ids\": input_ids\n",
    "    }\n",
    "\n",
    "# create DataLoader for training\n",
    "train_dataloader = DataLoader(\n",
    "    train_dataset,\n",
    "    shuffle=True,\n",
    "    collate_fn=collate_fn,\n",
    "    batch_size=train_batch_size,\n",
    "    num_workers=2,  # adjust based on your CPU (can be found out using os.cpu_count())\n",
    ")"
   ]
  },
  {
   "cell_type": "code",
   "execution_count": 39,
   "id": "2094e267",
   "metadata": {},
   "outputs": [
    {
     "data": {
      "image/png": "[encoded data removed]",
      "text/plain": [
       "<Figure size 720x720 with 1 Axes>"
      ]
     },
     "metadata": {
      "needs_background": "light"
     },
     "output_type": "display_data"
    },
    {
     "name": "stdout",
     "output_type": "stream",
     "text": [
      "Caption Token IDs: tensor([49406,  7050, 38049,  7048,  6172,  1253, 49407, 49407, 49407, 49407,\n",
      "        49407, 49407, 49407, 49407, 49407, 49407, 49407, 49407, 49407, 49407,\n",
      "        49407, 49407, 49407, 49407, 49407, 49407, 49407, 49407, 49407, 49407,\n",
      "        49407, 49407, 49407, 49407, 49407, 49407, 49407, 49407, 49407, 49407,\n",
      "        49407, 49407, 49407, 49407, 49407, 49407, 49407, 49407, 49407, 49407,\n",
      "        49407, 49407, 49407, 49407, 49407, 49407, 49407, 49407, 49407, 49407,\n",
      "        49407, 49407, 49407, 49407, 49407, 49407, 49407, 49407, 49407, 49407,\n",
      "        49407, 49407, 49407, 49407, 49407, 49407, 49407])\n"
     ]
    }
   ],
   "source": [
    "# Get a batch\n",
    "batch = next(iter(train_dataloader))\n",
    "\n",
    "# Select the first image and mask from batch\n",
    "img_tensor = batch['pixel_values'][0]\n",
    "mask_tensor = batch['pixel_mask_values'][0]\n",
    "\n",
    "# Unnormalize image tensor and convert to PIL\n",
    "img_pil = TF.to_pil_image((img_tensor * 0.5 + 0.5).clamp(0, 1))\n",
    "\n",
    "# Convert mask to a binary mask image (0 or 255)\n",
    "mask_pil = TF.to_pil_image(mask_tensor).convert(\"L\")  # \"L\" mode for grayscale\n",
    "\n",
    "# Optionally: apply a color to the mask\n",
    "mask_colored = Image.new(\"RGBA\", mask_pil.size, color=(255, 0, 0, 100))  # Red with alpha\n",
    "mask_binary = mask_pil.point(lambda x: 255 if x > 0 else 0).convert(\"1\")  # binary mask\n",
    "\n",
    "# Paste the red mask over the image using binary mask as alpha mask\n",
    "img_overlay = img_pil.convert(\"RGBA\").copy()\n",
    "img_overlay.paste(mask_colored, mask=mask_binary)\n",
    "\n",
    "# Display overlay\n",
    "plt.figure(figsize=(10, 10))\n",
    "plt.imshow(img_overlay)\n",
    "plt.title(\"Image with Overlayed Mask\")\n",
    "plt.axis('off')\n",
    "plt.show()\n",
    "\n",
    "# Optional: print caption token IDs\n",
    "print(\"Caption Token IDs:\", batch['input_ids'][0])"
   ]
  },
  {
   "cell_type": "markdown",
   "id": "08be95fa",
   "metadata": {},
   "source": [
    "# Optimizer and Scheduler\n",
    "\n",
    "Using the default \"constant\" scheduler"
   ]
  },
  {
   "cell_type": "code",
   "execution_count": 40,
   "id": "83c84cdc",
   "metadata": {},
   "outputs": [],
   "source": [
    "# set up optimizer for the unet model\n",
    "optimizer = torch.optim.AdamW(\n",
    "    unet.parameters(),\n",
    "    lr=learning_rate,\n",
    "    betas=(adam_beta1, adam_beta2),\n",
    "    weight_decay=adam_weight_decay,\n",
    "    eps=adam_epsilon,\n",
    ")"
   ]
  },
  {
   "cell_type": "code",
   "execution_count": 41,
   "id": "3888dc19",
   "metadata": {},
   "outputs": [],
   "source": [
    "# number of steps for training\n",
    "num_update_steps_per_epoch = math.ceil(len(train_dataloader) / gradient_accumulation_steps)\n",
    "\n",
    "if max_train_steps is None:\n",
    "    max_train_steps = num_train_epochs * num_update_steps_per_epoch"
   ]
  },
  {
   "cell_type": "code",
   "execution_count": 42,
   "id": "64551a23",
   "metadata": {},
   "outputs": [],
   "source": [
    "# create learning rate scheduler\n",
    "lr_scheduler = get_constant_schedule_with_warmup(\n",
    "    optimizer, \n",
    "    num_warmup_steps=lr_warmup_steps * gradient_accumulation_steps, \n",
    "#     num_training_steps=max_train_steps * gradient_accumulation_steps\n",
    ")"
   ]
  },
  {
   "cell_type": "code",
   "execution_count": 43,
   "id": "2fcc21e6",
   "metadata": {},
   "outputs": [
    {
     "name": "stdout",
     "output_type": "stream",
     "text": [
      "  Num examples = 100\n",
      "  Num epochs = 10\n",
      "  Batch size per device = 4\n",
      "  Gradient accumulation steps = 1\n",
      "  Total optimization steps = 250\n"
     ]
    }
   ],
   "source": [
    "# display training info\n",
    "print(f\"  Num examples = {len(train_dataset)}\")\n",
    "print(f\"  Num epochs = {num_train_epochs}\")\n",
    "print(f\"  Batch size per device = {train_batch_size}\")\n",
    "print(f\"  Gradient accumulation steps = {gradient_accumulation_steps}\")\n",
    "print(f\"  Total optimization steps = {max_train_steps}\")"
   ]
  },
  {
   "cell_type": "markdown",
   "id": "5ba19bcc",
   "metadata": {},
   "source": [
    "# Training Loop\n",
    "\n",
    "Didn't understand the gradient accumulation part"
   ]
  },
  {
   "cell_type": "code",
   "execution_count": 44,
   "id": "eed1910c",
   "metadata": {},
   "outputs": [
    {
     "name": "stdout",
     "output_type": "stream",
     "text": [
      "\n",
      "Epoch 1/10\n"
     ]
    },
    {
     "data": {
      "application/vnd.jupyter.widget-view+json": {
       "model_id": "020b7dae35b54e2fbbc7a0ca89c8370c",
       "version_major": 2,
       "version_minor": 0
      },
      "text/plain": [
       "Training:   0%|          | 0/25 [00:00<?, ?it/s]"
      ]
     },
     "metadata": {},
     "output_type": "display_data"
    },
    {
     "name": "stdout",
     "output_type": "stream",
     "text": [
      "Step 10: Loss: 9.97603\n",
      "Step 20: Loss: 8.75791\n",
      "Epoch 1 finished\n",
      "\n",
      "Epoch 2/10\n"
     ]
    },
    {
     "data": {
      "application/vnd.jupyter.widget-view+json": {
       "model_id": "4cc16e0bbb874d0091c9b27a5bcd462d",
       "version_major": 2,
       "version_minor": 0
      },
      "text/plain": [
       "Training:   0%|          | 0/25 [00:00<?, ?it/s]"
      ]
     },
     "metadata": {},
     "output_type": "display_data"
    },
    {
     "name": "stdout",
     "output_type": "stream",
     "text": [
      "Step 30: Loss: 3.36960\n",
      "Step 40: Loss: 5.46952\n",
      "Step 50: Loss: 3.94425\n",
      "Epoch 2 finished\n",
      "\n",
      "Epoch 3/10\n"
     ]
    },
    {
     "data": {
      "application/vnd.jupyter.widget-view+json": {
       "model_id": "52ee5f8c581348a58657d2cdccbe36f7",
       "version_major": 2,
       "version_minor": 0
      },
      "text/plain": [
       "Training:   0%|          | 0/25 [00:00<?, ?it/s]"
      ]
     },
     "metadata": {},
     "output_type": "display_data"
    },
    {
     "name": "stdout",
     "output_type": "stream",
     "text": [
      "Step 60: Loss: 2.86347\n",
      "Step 70: Loss: 2.23100\n",
      "Epoch 3 finished\n",
      "\n",
      "Epoch 4/10\n"
     ]
    },
    {
     "data": {
      "application/vnd.jupyter.widget-view+json": {
       "model_id": "f6505270e8bd4781b4442de67b2cedee",
       "version_major": 2,
       "version_minor": 0
      },
      "text/plain": [
       "Training:   0%|          | 0/25 [00:00<?, ?it/s]"
      ]
     },
     "metadata": {},
     "output_type": "display_data"
    },
    {
     "name": "stdout",
     "output_type": "stream",
     "text": [
      "Step 80: Loss: 0.97403\n",
      "Step 90: Loss: 1.16368\n",
      "Step 100: Loss: 0.89655\n",
      "Epoch 4 finished\n",
      "\n",
      "Epoch 5/10\n"
     ]
    },
    {
     "data": {
      "application/vnd.jupyter.widget-view+json": {
       "model_id": "111a7f1a863143fda255b9fe340e264d",
       "version_major": 2,
       "version_minor": 0
      },
      "text/plain": [
       "Training:   0%|          | 0/25 [00:00<?, ?it/s]"
      ]
     },
     "metadata": {},
     "output_type": "display_data"
    },
    {
     "name": "stdout",
     "output_type": "stream",
     "text": [
      "Step 110: Loss: 0.82321\n",
      "Step 120: Loss: 0.80577\n",
      "Epoch 5 finished\n",
      "\n",
      "Epoch 6/10\n"
     ]
    },
    {
     "data": {
      "application/vnd.jupyter.widget-view+json": {
       "model_id": "d4808b47fccc4593b23fd03074bfc0da",
       "version_major": 2,
       "version_minor": 0
      },
      "text/plain": [
       "Training:   0%|          | 0/25 [00:00<?, ?it/s]"
      ]
     },
     "metadata": {},
     "output_type": "display_data"
    },
    {
     "name": "stdout",
     "output_type": "stream",
     "text": [
      "Step 130: Loss: 0.29238\n",
      "Step 140: Loss: 0.60929\n",
      "Step 150: Loss: 0.77664\n",
      "Epoch 6 finished\n",
      "\n",
      "Epoch 7/10\n"
     ]
    },
    {
     "data": {
      "application/vnd.jupyter.widget-view+json": {
       "model_id": "cb9db2fba8a54ad282671e42a3155d44",
       "version_major": 2,
       "version_minor": 0
      },
      "text/plain": [
       "Training:   0%|          | 0/25 [00:00<?, ?it/s]"
      ]
     },
     "metadata": {},
     "output_type": "display_data"
    },
    {
     "name": "stdout",
     "output_type": "stream",
     "text": [
      "Step 160: Loss: 0.69625\n",
      "Step 170: Loss: 0.62110\n",
      "Epoch 7 finished\n",
      "\n",
      "Epoch 8/10\n"
     ]
    },
    {
     "data": {
      "application/vnd.jupyter.widget-view+json": {
       "model_id": "faf33f327a2546c4aaba5203582ade82",
       "version_major": 2,
       "version_minor": 0
      },
      "text/plain": [
       "Training:   0%|          | 0/25 [00:00<?, ?it/s]"
      ]
     },
     "metadata": {},
     "output_type": "display_data"
    },
    {
     "name": "stdout",
     "output_type": "stream",
     "text": [
      "Step 180: Loss: 0.21146\n",
      "Step 190: Loss: 0.59034\n",
      "Step 200: Loss: 0.32117\n",
      "Epoch 8 finished\n",
      "\n",
      "Epoch 9/10\n"
     ]
    },
    {
     "data": {
      "application/vnd.jupyter.widget-view+json": {
       "model_id": "5d0e6dec0ffb46a69948fe619ff96eaf",
       "version_major": 2,
       "version_minor": 0
      },
      "text/plain": [
       "Training:   0%|          | 0/25 [00:00<?, ?it/s]"
      ]
     },
     "metadata": {},
     "output_type": "display_data"
    },
    {
     "name": "stdout",
     "output_type": "stream",
     "text": [
      "Step 210: Loss: 0.43818\n",
      "Step 220: Loss: 0.44608\n",
      "Epoch 9 finished\n",
      "\n",
      "Epoch 10/10\n"
     ]
    },
    {
     "data": {
      "application/vnd.jupyter.widget-view+json": {
       "model_id": "02cbc060c74f49cfb2160945d0482c85",
       "version_major": 2,
       "version_minor": 0
      },
      "text/plain": [
       "Training:   0%|          | 0/25 [00:00<?, ?it/s]"
      ]
     },
     "metadata": {},
     "output_type": "display_data"
    },
    {
     "name": "stdout",
     "output_type": "stream",
     "text": [
      "Step 230: Loss: 0.17910\n",
      "Step 240: Loss: 0.37380\n",
      "Step 250: Loss: 0.36479\n",
      "Epoch 10 finished\n",
      "Training complete!\n",
      "Saving final model to ./fashion-model-finetuned_100\n"
     ]
    },
    {
     "name": "stderr",
     "output_type": "stream",
     "text": [
      "`text_config_dict` is provided which will be used to initialize `CLIPTextConfig`. The value `text_config[\"id2label\"]` will be overriden.\n",
      "`text_config_dict` is provided which will be used to initialize `CLIPTextConfig`. The value `text_config[\"bos_token_id\"]` will be overriden.\n",
      "`text_config_dict` is provided which will be used to initialize `CLIPTextConfig`. The value `text_config[\"eos_token_id\"]` will be overriden.\n"
     ]
    },
    {
     "name": "stdout",
     "output_type": "stream",
     "text": [
      "Model saved to ./fashion-model-finetuned_100\n"
     ]
    }
   ],
   "source": [
    "global_step = 0\n",
    "\n",
    "for epoch in range(num_train_epochs):\n",
    "    print(f\"\\nEpoch {epoch+1}/{num_train_epochs}\")\n",
    "    unet.train()\n",
    "    train_loss = 0.0\n",
    "    \n",
    "    for step, batch in enumerate(tqdm(train_dataloader, desc=\"Training\")):\n",
    "        # move batch to device\n",
    "        batch = {k: v.to(device) for k, v in batch.items()}\n",
    "        \n",
    "        # convert images to latent space using vae\n",
    "        latents = vae.encode(batch[\"pixel_values\"]).latent_dist.sample()\n",
    "        latents = latents * vae.config.scaling_factor\n",
    "        \n",
    "        # encode the masked images\n",
    "        masked_latents = vae.encode(batch[\"masked_pixel_values\"]).latent_dist.sample()\n",
    "        masked_latents = masked_latents * vae.config.scaling_factor\n",
    "        \n",
    "        # resize mask to match latent resolution\n",
    "        mask = F.interpolate(\n",
    "            batch[\"pixel_mask_values\"],\n",
    "            size=(resolution // 8, resolution // 8),  # Match aspect ratio\n",
    "            mode='nearest'\n",
    "        )\n",
    "        \n",
    "        # sample noise for diffusion\n",
    "        noise = torch.randn_like(latents)\n",
    "        \n",
    "        # sample random timesteps for diffusion process\n",
    "        bsz = latents.shape[0]\n",
    "        timesteps = torch.randint(\n",
    "            0, noise_scheduler.num_train_timesteps, (bsz,), device=latents.device\n",
    "        ).long()\n",
    "        \n",
    "        # add noise to latents according to noise schedule (forward diffusion)\n",
    "        noisy_latents = noise_scheduler.add_noise(latents, noise, timesteps)\n",
    "        \n",
    "        # concatenate the inputs for the unet\n",
    "        latent_model_input = torch.cat([noisy_latents, mask, masked_latents], dim=1)\n",
    "        \n",
    "        # get text embeddings for conditioning\n",
    "        encoder_hidden_states = text_encoder(batch[\"input_ids\"])[0]\n",
    "        \n",
    "        # determine the target for loss calculation based on prediction type\n",
    "        if noise_scheduler.config.prediction_type == \"epsilon\":\n",
    "            target = noise  # predict the noise that was added\n",
    "        elif noise_scheduler.config.prediction_type == \"v_prediction\":\n",
    "            target = noise_scheduler.get_velocity(latents, noise, timesteps)\n",
    "        else:\n",
    "            raise ValueError(f\"Unknown prediction type {noise_scheduler.config.prediction_type}\")\n",
    "        \n",
    "        # forward pass through unet to predict noise\n",
    "        unet_output = unet(\n",
    "            latent_model_input, \n",
    "            timesteps, \n",
    "            encoder_hidden_states\n",
    "        )\n",
    "        \n",
    "        model_pred = unet_output.sample\n",
    "        \n",
    "        # calculate loss between prediction and target\n",
    "        loss = F.mse_loss(model_pred.float(), target.float(), reduction=\"mean\")\n",
    "        \n",
    "        # calculate average loss for logging\n",
    "        avg_loss = loss.item()\n",
    "        train_loss += avg_loss / gradient_accumulation_steps\n",
    "        \n",
    "        # backward pass\n",
    "        loss.backward()\n",
    "        \n",
    "        # gradient accumulation\n",
    "        if (step + 1) % gradient_accumulation_steps == 0:\n",
    "            # clip gradients\n",
    "            torch.nn.utils.clip_grad_norm_(unet.parameters(), max_grad_norm)\n",
    "            \n",
    "            # optimizer step\n",
    "            optimizer.step()\n",
    "            lr_scheduler.step()\n",
    "            optimizer.zero_grad()\n",
    "            \n",
    "            # increment global step and log progress\n",
    "            global_step += 1\n",
    "            \n",
    "            # log the loss\n",
    "            if global_step % 10 == 0:\n",
    "                print(f\"Step {global_step}: Loss: {train_loss:.5f}\")\n",
    "                train_loss = 0.0\n",
    "            \n",
    "            # save checkpoint\n",
    "            if global_step % checkpointing_steps == 0:\n",
    "                print(f\"Saving checkpoint at step {global_step}\")\n",
    "                save_path = os.path.join(output_dir, f\"checkpoint-{global_step}\")\n",
    "                os.makedirs(save_path, exist_ok=True)\n",
    "                \n",
    "                # save the unet model\n",
    "                unet.save_pretrained(os.path.join(save_path, \"unet\"))\n",
    "                \n",
    "                print(f\"Saved checkpoint to {save_path}\")\n",
    "            \n",
    "        # check if we've reached max steps\n",
    "        if global_step >= max_train_steps:\n",
    "            break\n",
    "    \n",
    "    # end of epoch\n",
    "    print(f\"Epoch {epoch+1} finished\")\n",
    "    \n",
    "    # check if we've reached max steps\n",
    "    if global_step >= max_train_steps:\n",
    "        break\n",
    "\n",
    "# end of training - save the final model\n",
    "print(\"Training complete!\")\n",
    "print(f\"Saving final model to {output_dir}\")\n",
    "\n",
    "# save the final unet\n",
    "unet.save_pretrained(os.path.join(output_dir, \"unet\"))\n",
    "\n",
    "# create and save the full pipeline for inference\n",
    "pipeline = StableDiffusionPipeline.from_pretrained(\n",
    "    pretrained_model_name_or_path,\n",
    "    text_encoder=text_encoder,\n",
    "    vae=vae,\n",
    "    unet=unet,\n",
    ")\n",
    "\n",
    "# save the pipeline\n",
    "pipeline.save_pretrained(output_dir)\n",
    "print(f\"Model saved to {output_dir}\")"
   ]
  },
  {
   "cell_type": "markdown",
   "id": "868e6698",
   "metadata": {},
   "source": [
    "feature_extractor\n",
    "safety_checker\n",
    "scheduler\n",
    "text_encoder\n",
    "tokenizer\n",
    "unet\n",
    "vae"
   ]
  },
  {
   "cell_type": "markdown",
   "id": "cf5ab515",
   "metadata": {},
   "source": [
    "feature_extractor\n",
    "safety_checker\n",
    "scheduler\n",
    "text_encoder\n",
    "tokenizer\n",
    "unet\n",
    "vae"
   ]
  },
  {
   "cell_type": "code",
   "execution_count": null,
   "id": "ba609b5e",
   "metadata": {},
   "outputs": [],
   "source": []
  }
 ],
 "metadata": {
  "kernelspec": {
   "display_name": "my-torch",
   "language": "python",
   "name": "my-torch"
  },
  "language_info": {
   "codemirror_mode": {
    "name": "ipython",
    "version": 3
   },
   "file_extension": ".py",
   "mimetype": "text/x-python",
   "name": "python",
   "nbconvert_exporter": "python",
   "pygments_lexer": "ipython3",
   "version": "3.8.8"
  }
 },
 "nbformat": 4,
 "nbformat_minor": 5
}
