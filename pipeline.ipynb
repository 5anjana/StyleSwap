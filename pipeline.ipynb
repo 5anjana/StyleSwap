{
 "cells": [
  {
   "cell_type": "markdown",
   "metadata": {},
   "source": [
    "This is the pipeline for running the model.\n",
    "we have to input an image, a text prompt, an output image path, and the correct model paths."
   ]
  },
  {
   "cell_type": "markdown",
   "metadata": {},
   "source": [
    "# Import Required Packages"
   ]
  },
  {
   "cell_type": "code",
   "execution_count": 2,
   "metadata": {},
   "outputs": [],
   "source": [
    "import argparse\n",
    "\n",
    "import torch\n",
    "import clip\n",
    "import numpy as np\n",
    "\n",
    "\n",
    "from PIL import Image\n",
    "from diffusers import StableDiffusionInpaintPipeline"
   ]
  },
  {
   "cell_type": "code",
   "execution_count": 4,
   "metadata": {},
   "outputs": [],
   "source": [
    "import os\n",
    "import os.path as osp\n",
    "\n",
    "import glob\n",
    "import importlib\n",
    "import logging\n",
    "import sys\n",
    "#import mmcv"
   ]
  },
  {
   "cell_type": "code",
   "execution_count": 64,
   "metadata": {},
   "outputs": [
    {
     "name": "stdout",
     "output_type": "stream",
     "text": [
      "Python 3.11.6\n"
     ]
    }
   ],
   "source": [
    "!python --version"
   ]
  },
  {
   "cell_type": "markdown",
   "metadata": {},
   "source": [
    "# Load Images\n",
    "\n",
    "This code loads an image and downsamples it by a factor of 2 (to reduce computational cost WE COULD DO MORE?), resizes it, converts the image into a a numpy array, and returns float32 values in in the numpy array.  \n",
    "This prepares the images to be loaded into the model."
   ]
  },
  {
   "cell_type": "code",
   "execution_count": 5,
   "metadata": {},
   "outputs": [],
   "source": [
    "# function to load image\n",
    "def load_image(image_path):\n",
    "    #set downsample factor\n",
    "    downsample_factor = 2\n",
    "    with open(image_path, \"rb\") as f:\n",
    "        #open image\n",
    "        image = Image.open(f)\n",
    "        width, height = image.size\n",
    "        #donwsample image\n",
    "        width = width // downsample_factor\n",
    "        height = height // downsample_factor\n",
    "        #resize image\n",
    "        image = image.resize(size=(width, height), resample=Image.NEAREST)\n",
    "        #transpose array\n",
    "        image = np.array(image).transpose(2, 0, 1)\n",
    "    #return array\n",
    "    return image.astype(np.float32)"
   ]
  },
  {
   "cell_type": "markdown",
   "metadata": {},
   "source": [
    "# Contents of other files \n",
    "parse function from utils.options  \n",
    "options from yaml file\n",
    "create_model from models"
   ]
  },
  {
   "cell_type": "markdown",
   "metadata": {},
   "source": [
    "## parse function to parse the options"
   ]
  },
  {
   "cell_type": "code",
   "execution_count": 6,
   "metadata": {},
   "outputs": [],
   "source": [
    "#parse from utils.options, needed to read the options\n",
    "\n",
    "def parse(options_dict, is_train=True):\n",
    "    \"\"\"Parse options from a dictionary instead of a YAML file.\n",
    "\n",
    "    Args:\n",
    "        options_dict (dict): Dictionary containing model options.\n",
    "        is_train (bool): Indicates whether in training mode. Default is True.\n",
    "\n",
    "    Returns:\n",
    "        dict: Processed options.\n",
    "    \"\"\"\n",
    "    # create copy of input dictionary to avoid modifying the original\n",
    "    opt = options_dict.copy()\n",
    "\n",
    "    #get gpu list\n",
    "    gpu_list = ','.join(str(x) for x in opt['gpu_ids'])\n",
    "    if opt.get('set_CUDA_VISIBLE_DEVICES', None):\n",
    "        os.environ['CUDA_VISIBLE_DEVICES'] = gpu_list\n",
    "        print('export CUDA_VISIBLE_DEVICES=' + gpu_list, flush=True)\n",
    "    else:\n",
    "        print('gpu_list: ', gpu_list, flush=True)\n",
    "\n",
    "    opt['is_train'] = is_train\n",
    "\n",
    "    #save optional paths (only if user wants to save logs & models)\n",
    "    opt['path'] = {}\n",
    "    opt['path']['root'] = os.getcwd() #set root as current working directory\n",
    "\n",
    "    if is_train:\n",
    "        #check for path, set to root if not set\n",
    "        opt['path']['models'] = opt.get('models_path', os.path.join(opt['path']['root'], 'models'))\n",
    "        opt['path']['logs'] = opt.get('logs_path', os.path.join(opt['path']['root'], 'logs'))\n",
    "        opt['path']['visualization'] = opt.get('visualization_path', os.path.join(opt['path']['root'], 'visualization'))\n",
    "        \n",
    "        \n",
    "        # change some options for debug mode\n",
    "        #debug enabled = True\n",
    "        if opt.get('debug', False):\n",
    "            opt['val_freq'] = 1\n",
    "            opt['print_freq'] = 1\n",
    "            opt['save_checkpoint_freq'] = 1\n",
    "\n",
    "    #for test mode    \n",
    "    else:  # test\n",
    "        #check for path, set to root if not set\n",
    "        opt['path']['results'] = opt.get('results_path', os.path.join(opt['path']['root'], 'results'))\n",
    "        opt['path']['log'] = opt.get('log_path', os.path.join(opt['path']['root'], 'test_logs'))\n",
    "        opt['path']['visualization'] = opt.get('vis_path', os.path.join(opt['path']['root'], 'test_visualizations'))\n",
    "\n",
    "    return opt"
   ]
  },
  {
   "cell_type": "markdown",
   "metadata": {},
   "source": [
    "## Options for model setup including paths to models and images\n",
    "The model paths and image paths should both be changed to where we have them saved"
   ]
  },
  {
   "cell_type": "code",
   "execution_count": 21,
   "metadata": {},
   "outputs": [],
   "source": [
    "# contents of yaml file converted to dictionary\n",
    "options_dict = {\n",
    "    'name': 'region_gen',\n",
    "    'use_tb_logger': True,\n",
    "    'debug_path': False,\n",
    "    'set_CUDA_VISIBLE_DEVICES': True,\n",
    "    'gpu_ids': [0],\n",
    "\n",
    "    # dataset configs\n",
    "    'batch_size': 8,\n",
    "    'num_workers': 4,\n",
    "    #change depending on where you have files stored\n",
    "    'mask_dir': '../DFMM-Spotlight/mask',\n",
    "    'train_img_dir': '../DFMM-Spotlight/train_images',\n",
    "    'test_img_dir': '../DFMM-Spotlight/test_images',\n",
    "    'train_ann_file': '../DFMM-Spotlight/mask_ann/train_ann_file.jsonl',\n",
    "    'test_ann_file': '../DFMM-Spotlight/mask_ann/test_ann_file.jsonl',\n",
    "    'downsample_factor': 2,\n",
    "\n",
    "    # model configs\n",
    "    'model_type': 'ERLM',\n",
    "    'text_embedding_dim': 512,\n",
    "    'encoder_in_channels': 3,\n",
    "    'fc_in_channels': 64,\n",
    "    'fc_in_index': 4,\n",
    "    'fc_channels': 64,\n",
    "    'fc_num_convs': 1,\n",
    "    'fc_concat_input': False,\n",
    "    'fc_dropout_ratio': 0.1,\n",
    "    'fc_num_classes': 2,\n",
    "    'fc_align_corners': False,\n",
    "\n",
    "    # training configs\n",
    "    'val_freq': 5,\n",
    "    'print_freq': 100,\n",
    "    'weight_decay': 0,\n",
    "    'manual_seed': 2023,\n",
    "    'num_epochs': 100,\n",
    "    'lr': 1e-4,\n",
    "    'lr_decay': \"step\",\n",
    "    'gamma': 0.1,\n",
    "    'step': [50],\n",
    "\n",
    "    #text prompt\n",
    "    \"text_prompt\": \"a blue dress\", # we can change this to any text prompt we want\n",
    "    \n",
    "    #paths (change this to our model paths)\n",
    "    'elrm_model_path' : '../ELRM/', \n",
    "    'styleswap_model_path' : '../textfit-model',\n",
    "    'output_path' : 'example_output.png',\n",
    "    'input_image_path': '../DFMM-Spotlight/test_images/MEN-Denim-id_00000089-03_7_additional.png',\n",
    "}\n",
    "    "
   ]
  },
  {
   "cell_type": "code",
   "execution_count": 1,
   "metadata": {},
   "outputs": [],
   "source": [
    "def create_model(opt):\n",
    "    \"\"\"\n",
    "    Dynamically create a model based on the configuration dictionary.\n",
    "    \n",
    "    Args:\n",
    "        opt (dict): A dictionary containing model configuration. \n",
    "                    Must include 'model_type' key.\n",
    "    \n",
    "    Returns:\n",
    "        model (object): An instance of the specified model class.\n",
    "    \"\"\"\n",
    "    model_type = opt['model_type']\n",
    "    \n",
    "    # Find the model class from the registry\n",
    "    model_cls = model_registry.get(model_type)\n",
    "    \n",
    "    if model_cls is None:\n",
    "        raise ValueError(f\"Model '{model_type}' not found in registry.\")\n",
    "    \n",
    "    # Instantiate the model with options\n",
    "    model = model_cls(opt)\n",
    "    \n",
    "    # Optional logging — for demonstration\n",
    "    logger = logging.getLogger()\n",
    "    logger.setLevel(logging.INFO)\n",
    "    logger.info(f\"Model [{model.__class__.__name__}] is created.\")\n",
    "    \n",
    "    return model"
   ]
  },
  {
   "cell_type": "markdown",
   "metadata": {},
   "source": [
    "## modified model function tha loads the ELRM model"
   ]
  },
  {
   "cell_type": "code",
   "execution_count": null,
   "metadata": {},
   "outputs": [],
   "source": [
    "def create_model(opt):\n",
    "    \"\"\"Create model.\n",
    "\n",
    "    Args:\n",
    "        opt (dict): Configuration. It constains:\n",
    "            model_type (str): Model type.\n",
    "    \"\"\"\n",
    "\n",
    "    #get model folder\n",
    "    model_folder = opt['elrm_model_path']\n",
    "\n",
    "    #get py file with model architecture\n",
    "    model_filenames = [\n",
    "        osp.splitext(osp.basename(v))[0]\n",
    "        for v in glob.glob(f'{model_folder}/*_model.py')\n",
    "    ]\n",
    "    \n",
    "    # import all the model modules\n",
    "    _model_modules = [\n",
    "        importlib.import_module(f'models.{file_name}')\n",
    "        for file_name in model_filenames\n",
    "        ]\n",
    "    \n",
    "    model_type = opt['model_type']\n",
    "\n",
    "    # dynamically instantiation\n",
    "    for module in _model_modules:\n",
    "        model_cls = getattr(module, model_type, None)\n",
    "        if model_cls is not None:\n",
    "            break\n",
    "    if model_cls is None:\n",
    "        raise ValueError(f'Model {model_type} is not found.')\n",
    "\n",
    "    model = model_cls(opt)\n",
    "    \n",
    "    # Optional logging — for demonstration\n",
    "    logger = logging.getLogger()\n",
    "    logger.setLevel(logging.INFO)\n",
    "    logger.info(f\"Model [{model.__class__.__name__}] is created.\")\n",
    "    \n",
    "    return model"
   ]
  },
  {
   "cell_type": "markdown",
   "metadata": {},
   "source": [
    "# Main Pipeline Function\n",
    "This function starts by parsing all the arguments. It takes in the image path,text promt, output path, and model path. It also loads the elrm model using the specifics in the yaml file. We will likely convert the yaml file to a code cell and call it in this function. \n",
    "\n",
    "Then it calls the load_image function, and converts the output to a tensor. \n",
    "\n",
    "It also takes in the text prompt and tokenizes it.\n",
    "\n",
    "The function uses the CLIP model to encode the text, and both the image and text embeddings are passed throught the encoder.\n",
    "The decoder uses `argmax`` to create a segmentation mask and converts the image to grayscale.\n",
    "\n",
    "Then the stable diffusion model is then loaded and transfered to GPU.\n",
    "The model generates an image using the input image, the segmentation mask from the elrm model and the text prompt. The diffusion model is run for 50 steps. ( mores teps = high quality image, slow, fewer steps = faster, lower quality image, more noise)\n",
    "\n",
    "Then the generated image is blended with the input image and saved."
   ]
  },
  {
   "cell_type": "code",
   "execution_count": 9,
   "metadata": {},
   "outputs": [],
   "source": [
    "def main():\n",
    "    #parse arguments from dictionary\n",
    "    opt = parse(options_dict, is_train=True)\n",
    "    \n",
    "    #load model cnbfiguration\n",
    "    model = create_model(opt) #create model from options (need create_model function from models module))\n",
    "    model.load_network()\n",
    "    model.encoder.eval()\n",
    "    model.decoder.eval()\n",
    "\n",
    "    #load image\n",
    "    img = load_image(opt['img_path'])\n",
    "    #conver to tensor\n",
    "    img= torch.from_numpy(img).unsqueeze(dim=0).to(model.device)\n",
    "    \n",
    "    #load text inputs with clip to encode text\n",
    "    text_input = torch.cat([clip.tokenize(opt[\"text prompt\"])]).to(model.device)\n",
    "\n",
    "    #pass image and text through encoder\n",
    "    with torch.no_grad():\n",
    "        # text embedding\n",
    "        text_embedding = model.clip.encode_text(text_input)\n",
    "        #encode text\n",
    "        text_encoding = model.encoder(img, text_embedding)\n",
    "        seg_logits = model.decoder(text_encoding)\n",
    "\n",
    "    #argmax to get segmentation map\n",
    "    seg_pred = seg_logits.argmax(dim=1).cpu().numpy()[0]\n",
    "    #convert to grayscale image\n",
    "    seg_img = Image.fromarray(np.uint8(seg_pred * 255))\n",
    "\n",
    "    img = Image.open(opt['img_path']).convert(\"RGB\").resize((256, 512))\n",
    "\n",
    "    # Load pipeline\n",
    "    #load stable diffusion inpaingting model (we can change this if we want)\n",
    "    pipe = StableDiffusionInpaintPipeline.from_pretrained(\n",
    "        opt['texfit_model_path'], revision=\"fp16\",\n",
    "        torch_dtype=torch.float16,\n",
    "        safety_checker=None,\n",
    "        requires_safety_checker=False\n",
    "        #move model to gpu\n",
    "    ).to(\"cuda\")\n",
    "\n",
    "    #generate image\n",
    "    generator = torch.Generator(\"cuda\").manual_seed(2023)\n",
    "    images = pipe(\n",
    "        height=512,\n",
    "        width=256,\n",
    "        prompt=[opt['text_prompt']],\n",
    "        image=img,\n",
    "        mask_image=seg_img,\n",
    "        num_inference_steps=50,\n",
    "        generator=generator\n",
    "    ).images\n",
    "\n",
    "    #blend generated image with original image\n",
    "    final_img = Image.composite(images[0], img, seg_img)\n",
    "    #save image\n",
    "    final_img.save(opt['output_path'])\n",
    "    print('Saved edited result to', opt['output_path'])\n",
    "\n",
    "\n"
   ]
  },
  {
   "cell_type": "code",
   "execution_count": 10,
   "metadata": {},
   "outputs": [
    {
     "name": "stdout",
     "output_type": "stream",
     "text": [
      "export CUDA_VISIBLE_DEVICES=0\n"
     ]
    },
    {
     "ename": "TypeError",
     "evalue": "'str' object is not callable",
     "output_type": "error",
     "traceback": [
      "\u001b[31m---------------------------------------------------------------------------\u001b[39m",
      "\u001b[31mTypeError\u001b[39m                                 Traceback (most recent call last)",
      "\u001b[36mCell\u001b[39m\u001b[36m \u001b[39m\u001b[32mIn[10]\u001b[39m\u001b[32m, line 2\u001b[39m\n\u001b[32m      1\u001b[39m \u001b[38;5;66;03m# Call main() directly in the notebook\u001b[39;00m\n\u001b[32m----> \u001b[39m\u001b[32m2\u001b[39m \u001b[43mmain\u001b[49m\u001b[43m(\u001b[49m\u001b[43m)\u001b[49m\n",
      "\u001b[36mCell\u001b[39m\u001b[36m \u001b[39m\u001b[32mIn[9]\u001b[39m\u001b[32m, line 6\u001b[39m, in \u001b[36mmain\u001b[39m\u001b[34m()\u001b[39m\n\u001b[32m      3\u001b[39m opt = parse(options_dict, is_train=\u001b[38;5;28;01mTrue\u001b[39;00m)\n\u001b[32m      5\u001b[39m \u001b[38;5;66;03m#load model cnbfiguration\u001b[39;00m\n\u001b[32m----> \u001b[39m\u001b[32m6\u001b[39m model = \u001b[43mcreate_model\u001b[49m\u001b[43m(\u001b[49m\u001b[43mopt\u001b[49m\u001b[43m)\u001b[49m \u001b[38;5;66;03m#create model from options (need create_model function from models module))\u001b[39;00m\n\u001b[32m      7\u001b[39m model.load_network()\n\u001b[32m      8\u001b[39m model.encoder.eval()\n",
      "\u001b[36mCell\u001b[39m\u001b[36m \u001b[39m\u001b[32mIn[8]\u001b[39m\u001b[32m, line 12\u001b[39m, in \u001b[36mcreate_model\u001b[39m\u001b[34m(opt)\u001b[39m\n\u001b[32m      9\u001b[39m model_type = opt[\u001b[33m'\u001b[39m\u001b[33mmodel_type\u001b[39m\u001b[33m'\u001b[39m]\n\u001b[32m     11\u001b[39m  \u001b[38;5;66;03m# Instantiate the model with options\u001b[39;00m\n\u001b[32m---> \u001b[39m\u001b[32m12\u001b[39m model = \u001b[43mmodel_type\u001b[49m\u001b[43m(\u001b[49m\u001b[43mopt\u001b[49m\u001b[43m)\u001b[49m\n\u001b[32m     14\u001b[39m \u001b[38;5;66;03m# Optional logging — for demonstration\u001b[39;00m\n\u001b[32m     15\u001b[39m logger = logging.getLogger()\n",
      "\u001b[31mTypeError\u001b[39m: 'str' object is not callable"
     ]
    }
   ],
   "source": [
    "# Call main() directly in the notebook\n",
    "main()"
   ]
  },
  {
   "cell_type": "code",
   "execution_count": null,
   "metadata": {},
   "outputs": [],
   "source": []
  }
 ],
 "metadata": {
  "kernelspec": {
   "display_name": "base",
   "language": "python",
   "name": "python3"
  },
  "language_info": {
   "codemirror_mode": {
    "name": "ipython",
    "version": 3
   },
   "file_extension": ".py",
   "mimetype": "text/x-python",
   "name": "python",
   "nbconvert_exporter": "python",
   "pygments_lexer": "ipython3",
   "version": "3.12.2"
  }
 },
 "nbformat": 4,
 "nbformat_minor": 2
}
